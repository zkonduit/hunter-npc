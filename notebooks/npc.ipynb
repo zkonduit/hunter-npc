{
  "cells": [
    {
      "cell_type": "markdown",
      "id": "cf69bb3f-94e6-4dba-92cd-ce08df117d67",
      "metadata": {
        "id": "cf69bb3f-94e6-4dba-92cd-ce08df117d67"
      },
      "source": [
        "\n",
        "## NPC Hunter\n",
        "\n",
        "We show how to use EZKL to prove that the NPC hunter updates are \"optimal\". Given coordinates x,y for the hunter and the prey, the hunter moves to the closest point in the grid to the prey. \n",
        "\n",
        "The hunter can move in the four cardinal directions, selected using `argmin` over the calculated distances. \n"
      ]
    },
    {
      "cell_type": "code",
      "execution_count": null,
      "id": "95613ee9",
      "metadata": {
        "id": "95613ee9"
      },
      "outputs": [],
      "source": [
        "# check if notebook is in colab\n",
        "try:\n",
        "    # install ezkl\n",
        "    import google.colab\n",
        "    import subprocess\n",
        "    import sys\n",
        "    subprocess.check_call([sys.executable, \"-m\", \"pip\", \"install\", \"ezkl\"])\n",
        "    subprocess.check_call([sys.executable, \"-m\", \"pip\", \"install\", \"onnx\"])\n",
        "\n",
        "# rely on local installation of ezkl if the notebook is not in colab\n",
        "except:\n",
        "    pass\n",
        "\n",
        "\n",
        "# make sure you have the dependencies required here already installed\n",
        "from torch import nn\n",
        "import ezkl\n",
        "import os\n",
        "import json\n",
        "import torch"
      ]
    },
    {
      "cell_type": "code",
      "execution_count": null,
      "id": "9LgqGF56Qcdz",
      "metadata": {
        "id": "9LgqGF56Qcdz"
      },
      "outputs": [],
      "source": [
        "class NPC(nn.Module):\n",
        "    def __init__(self):\n",
        "        super(NPC, self).__init__()\n",
        "\n",
        "    def forward(self, state):\n",
        "        # state is a tensor of shape (4,) where the first two elements are the coordinates of the prey and the last two elements are the coordinates of the hunter\n",
        "        # the prey is at (state[0], state[1]) and the hunter is at (state[2], state[3])\n",
        "        # (if we move hunter by +1 in x direction what is the distance ?) \n",
        "        dist_x_plus = torch.abs(state[:, 0] - (state[:, 2] + 1)) + torch.abs(state[:, 1] - state[:, 3])\n",
        "        # (if we move hunter by -1 in x direction what is the distance ?)\n",
        "        dist_x_minus = torch.abs(state[:, 0] - (state[:, 2] - 1)) + torch.abs(state[:, 1] - state[:, 3])\n",
        "        # (if we move hunter by +1 in y direction what is the distance ?)\n",
        "        dist_y_plus = torch.abs(state[:, 0] - state[:, 2]) + torch.abs(state[:, 1] - (state[:, 3] + 1))\n",
        "        # (if we move hunter by -1 in y direction what is the distance ?)\n",
        "        dist_y_minus = torch.abs(state[:, 0] - state[:, 2]) + torch.abs(state[:, 1] - (state[:, 3] - 1))\n",
        "\n",
        "        # argmin = 0 -> dist_x_plus\n",
        "        # argmin = 1 -> dist_x_minus\n",
        "        # argmin = 2 -> dist_y_plus\n",
        "        # argmin = 3 -> dist_y_minus\n",
        "        argmin = torch.argmin(torch.stack([dist_x_plus, dist_x_minus, dist_y_plus, dist_y_minus], dim=0), dim=0)\n",
        "        return argmin\n",
        "\n",
        "circuit = NPC()"
      ]
    },
    {
      "cell_type": "code",
      "execution_count": null,
      "id": "YRQLvvsXVs9s",
      "metadata": {
        "id": "YRQLvvsXVs9s"
      },
      "outputs": [],
      "source": [
        "gip_run_args = ezkl.PyRunArgs()\n",
        "gip_run_args.input_visibility = \"public\"  # matrix and generalized inverse commitments\n",
        "gip_run_args.output_visibility = \"public\"   \n",
        "gip_run_args.param_visibility = \"fixed\" # should be Tensor(True)\n",
        "gip_run_args.logrows = 15"
      ]
    },
    {
      "cell_type": "code",
      "execution_count": null,
      "id": "b37637c4",
      "metadata": {
        "id": "b37637c4"
      },
      "outputs": [],
      "source": [
        "model_path = os.path.join('network.onnx')\n",
        "compiled_model_path = os.path.join('network.compiled')\n",
        "pk_path = os.path.join('test.pk')\n",
        "vk_path = os.path.join('test.vk')\n",
        "settings_path = os.path.join('settings.json')\n",
        "\n",
        "witness_path = os.path.join('witness.json')\n",
        "data_path = os.path.join('input.json')"
      ]
    },
    {
      "cell_type": "code",
      "execution_count": null,
      "id": "82db373a",
      "metadata": {
        "id": "82db373a"
      },
      "outputs": [],
      "source": [
        "# After training, export to onnx (network.onnx) and create a data file (input.json)\n",
        "shape = [1, 4]\n",
        "\n",
        "A = torch.randint(size=shape, low=0, high=10, dtype=torch.int64)\n",
        "\n",
        "# Flips the neural net into inference mode\n",
        "circuit.eval()\n",
        "\n",
        "    # Export the model\n",
        "torch.onnx.export(circuit,               # model being run\n",
        "                      (A),  # model input (or a tuple for multiple inputs)\n",
        "                      model_path,            # where to save the model (can be a file or file-like object)\n",
        "                      export_params=True,        # store the trained parameter weights inside the model file\n",
        "                      opset_version=10,          # the ONNX version to export the model to\n",
        "                      do_constant_folding=True,  # whether to execute constant folding for optimization\n",
        "                      input_names = ['input'],   # the model's input names\n",
        "                      output_names = ['output'], # the model's output names\n",
        "                      dynamic_axes={'input' : {0 : 'batch_size'}},    # variable length axes\n",
        "                      )\n",
        "\n",
        "data = dict(\n",
        "    input_data=A.tolist(),\n",
        ")\n",
        "\n",
        "    # Serialize data into file:\n",
        "json.dump( data, open(data_path, 'w' ))\n"
      ]
    },
    {
      "cell_type": "code",
      "execution_count": null,
      "id": "HOLcdGx4eQ9n",
      "metadata": {
        "colab": {
          "base_uri": "https://localhost:8080/"
        },
        "id": "HOLcdGx4eQ9n",
        "outputId": "cd0a4f10-251e-492e-9f05-d8af0d79c86a"
      },
      "outputs": [],
      "source": [
        "circuit.forward(A)"
      ]
    },
    {
      "cell_type": "code",
      "execution_count": null,
      "id": "d5e374a2",
      "metadata": {
        "colab": {
          "background_save": true,
          "base_uri": "https://localhost:8080/"
        },
        "id": "d5e374a2",
        "outputId": "11ae5963-02d4-4939-9c98-d126071a9ba0"
      },
      "outputs": [],
      "source": [
        "\n",
        "\n",
        "res = ezkl.gen_settings(model_path, settings_path, py_run_args=gip_run_args)\n",
        "\n",
        "assert res == True\n",
        "\n",
        "res = await ezkl.calibrate_settings(data=data_path)\n"
      ]
    },
    {
      "cell_type": "code",
      "execution_count": null,
      "id": "3aa4f090",
      "metadata": {
        "id": "3aa4f090"
      },
      "outputs": [],
      "source": [
        "res = ezkl.compile_circuit(model_path, compiled_model_path, settings_path)\n",
        "assert res == True"
      ]
    },
    {
      "cell_type": "code",
      "execution_count": null,
      "id": "8b74dcee",
      "metadata": {
        "id": "8b74dcee"
      },
      "outputs": [],
      "source": [
        "# srs path\n",
        "res = await ezkl.get_srs( settings_path)"
      ]
    },
    {
      "cell_type": "code",
      "execution_count": null,
      "id": "18c8b7c7",
      "metadata": {
        "id": "18c8b7c7"
      },
      "outputs": [],
      "source": [
        "# now generate the witness file\n",
        "\n",
        "res = await ezkl.gen_witness(data_path, compiled_model_path, witness_path)\n",
        "assert os.path.isfile(witness_path)"
      ]
    },
    {
      "cell_type": "code",
      "execution_count": null,
      "id": "b1c561a8",
      "metadata": {
        "id": "b1c561a8"
      },
      "outputs": [],
      "source": [
        "\n",
        "# we pass the witness file to the setup function so as to prepopulate the \"fixed\" columns of the circuit. \n",
        "# in this case we want to force the output to be 0 meaning that the difference between the two matrices is 0\n",
        "res = ezkl.setup(\n",
        "        compiled_model_path,\n",
        "        vk_path,\n",
        "        pk_path,\n",
        "        witness_path = witness_path,\n",
        "    )\n",
        "\n",
        "assert res == True\n",
        "assert os.path.isfile(vk_path)\n",
        "assert os.path.isfile(pk_path)\n",
        "assert os.path.isfile(settings_path)"
      ]
    },
    {
      "cell_type": "code",
      "execution_count": null,
      "id": "c384cbc8",
      "metadata": {
        "id": "c384cbc8"
      },
      "outputs": [],
      "source": [
        "# GENERATE A PROOF\n",
        "\n",
        "\n",
        "proof_path = os.path.join('test.pf')\n",
        "\n",
        "res = ezkl.prove(\n",
        "        witness_path,\n",
        "        compiled_model_path,\n",
        "        pk_path,\n",
        "        proof_path,\n",
        "        \"single\",\n",
        "    )\n",
        "\n",
        "print(res)\n",
        "assert os.path.isfile(proof_path)"
      ]
    },
    {
      "cell_type": "code",
      "execution_count": null,
      "id": "76f00d41",
      "metadata": {
        "id": "76f00d41"
      },
      "outputs": [],
      "source": [
        "# VERIFY IT\n",
        "\n",
        "res = ezkl.verify(\n",
        "        proof_path,\n",
        "        settings_path,\n",
        "        vk_path,\n",
        "    )\n",
        "\n",
        "assert res == True\n",
        "print(\"verified\")"
      ]
    },
    {
      "cell_type": "markdown",
      "id": "2b43fce7",
      "metadata": {},
      "source": [
        "We can now create and then deploy a vanilla evm verifier. Which can be used to verify the correctness of the hunter's moves ! "
      ]
    },
    {
      "cell_type": "code",
      "execution_count": null,
      "id": "a22953f0",
      "metadata": {},
      "outputs": [],
      "source": [
        "abi_path = 'test.abi'\n",
        "sol_code_path = 'test.sol'\n",
        "\n",
        "res = await ezkl.create_evm_verifier(\n",
        "        vk_path,\n",
        "        settings_path,\n",
        "        sol_code_path,\n",
        "        abi_path,\n",
        "    )\n",
        "assert res == True"
      ]
    }
  ],
  "metadata": {
    "colab": {
      "provenance": []
    },
    "kernelspec": {
      "display_name": "Python 3 (ipykernel)",
      "language": "python",
      "name": "python3"
    },
    "language_info": {
      "codemirror_mode": {
        "name": "ipython",
        "version": 3
      },
      "file_extension": ".py",
      "mimetype": "text/x-python",
      "name": "python",
      "nbconvert_exporter": "python",
      "pygments_lexer": "ipython3",
      "version": "3.12.0"
    }
  },
  "nbformat": 4,
  "nbformat_minor": 5
}
