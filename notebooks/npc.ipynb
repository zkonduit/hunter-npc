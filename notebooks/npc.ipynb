{
  "cells": [
    {
      "cell_type": "markdown",
      "id": "cf69bb3f-94e6-4dba-92cd-ce08df117d67",
      "metadata": {
        "id": "cf69bb3f-94e6-4dba-92cd-ce08df117d67"
      },
      "source": [
        "\n",
        "## NPC Hunter\n",
        "\n",
        "We show how to use EZKL to prove that the NPC hunter updates are \"optimal\". Given coordinates x,y for the hunter and the prey, the hunter moves to the closest point in the grid to the prey. \n",
        "\n",
        "The hunter can move in the four cardinal directions, selected using `argmin` over the calculated distances. \n"
      ]
    },
    {
      "cell_type": "code",
      "execution_count": null,
      "id": "3be134e0",
      "metadata": {},
      "outputs": [],
      "source": [
        "! pip3 install -U ezkl \n",
        "import ezkl \n",
        "ezkl.__version__"
      ]
    },
    {
      "cell_type": "code",
      "execution_count": 40,
      "id": "95613ee9",
      "metadata": {
        "id": "95613ee9"
      },
      "outputs": [],
      "source": [
        "# check if notebook is in colab\n",
        "try:\n",
        "    # install ezkl\n",
        "    import google.colab\n",
        "    import subprocess\n",
        "    import sys\n",
        "    subprocess.check_call([sys.executable, \"-m\", \"pip\", \"install\", \"ezkl\"])\n",
        "    subprocess.check_call([sys.executable, \"-m\", \"pip\", \"install\", \"onnx\"])\n",
        "\n",
        "# rely on local installation of ezkl if the notebook is not in colab\n",
        "except:\n",
        "    pass\n",
        "\n",
        "\n",
        "# make sure you have the dependencies required here already installed\n",
        "from torch import nn\n",
        "import ezkl\n",
        "import os\n",
        "import json\n",
        "import torch"
      ]
    },
    {
      "cell_type": "code",
      "execution_count": 41,
      "id": "9LgqGF56Qcdz",
      "metadata": {
        "id": "9LgqGF56Qcdz"
      },
      "outputs": [],
      "source": [
        "class NPC(nn.Module):\n",
        "    def __init__(self):\n",
        "        super(NPC, self).__init__()\n",
        "\n",
        "    def forward(self, state):\n",
        "        # state is a tensor of shape (4,) where the first two elements are the coordinates of the prey and the last two elements are the coordinates of the hunter\n",
        "        # the prey is at (state[0], state[1]) and the hunter is at (state[2], state[3])\n",
        "        # (if we move hunter by +1 in x direction what is the distance ?) \n",
        "        dist_x_plus = torch.abs(state[:, 0] - (state[:, 2] + 1)) + torch.abs(state[:, 1] - state[:, 3])\n",
        "        # (if we move hunter by -1 in x direction what is the distance ?)\n",
        "        dist_x_minus = torch.abs(state[:, 0] - (state[:, 2] - 1)) + torch.abs(state[:, 1] - state[:, 3])\n",
        "        # (if we move hunter by +1 in y direction what is the distance ?)\n",
        "        dist_y_plus = torch.abs(state[:, 0] - state[:, 2]) + torch.abs(state[:, 1] - (state[:, 3] + 1))\n",
        "        # (if we move hunter by -1 in y direction what is the distance ?)\n",
        "        dist_y_minus = torch.abs(state[:, 0] - state[:, 2]) + torch.abs(state[:, 1] - (state[:, 3] - 1))\n",
        "\n",
        "        # argmin = 0 -> dist_x_plus\n",
        "        # argmin = 1 -> dist_x_minus\n",
        "        # argmin = 2 -> dist_y_plus\n",
        "        # argmin = 3 -> dist_y_minus\n",
        "        argmin = torch.argmin(torch.stack([dist_x_plus, dist_x_minus, dist_y_plus, dist_y_minus], dim=0), dim=0)\n",
        "        return argmin\n",
        "\n",
        "circuit = NPC()"
      ]
    },
    {
      "cell_type": "code",
      "execution_count": 62,
      "id": "YRQLvvsXVs9s",
      "metadata": {
        "id": "YRQLvvsXVs9s"
      },
      "outputs": [],
      "source": [
        "gip_run_args = ezkl.PyRunArgs()\n",
        "gip_run_args.input_visibility = \"public\"  # matrix and generalized inverse commitments\n",
        "gip_run_args.output_visibility = \"public\"   \n",
        "gip_run_args.param_visibility = \"fixed\" # should be Tensor(True)\n",
        "gip_run_args.logrows = 15\n",
        "gip_run_args.decomp_base = 2**6"
      ]
    },
    {
      "cell_type": "code",
      "execution_count": 64,
      "id": "82db373a",
      "metadata": {
        "id": "82db373a"
      },
      "outputs": [],
      "source": [
        "# After training, export to onnx (network.onnx) and create a data file (input.json)\n",
        "shape = [1, 4]\n",
        "\n",
        "A = torch.randint(size=shape, low=0, high=10, dtype=torch.int64)\n",
        "\n",
        "# Flips the neural net into inference mode\n",
        "circuit.eval()\n",
        "\n",
        "    # Export the model\n",
        "torch.onnx.export(circuit,               # model being run\n",
        "                      (A),  # model input (or a tuple for multiple inputs)\n",
        "                      model_path,            # where to save the model (can be a file or file-like object)\n",
        "                      export_params=True,        # store the trained parameter weights inside the model file\n",
        "                      opset_version=10,          # the ONNX version to export the model to\n",
        "                      do_constant_folding=True,  # whether to execute constant folding for optimization\n",
        "                      input_names = ['input'],   # the model's input names\n",
        "                      output_names = ['output'], # the model's output names\n",
        "                      dynamic_axes={'input' : {0 : 'batch_size'}},    # variable length axes\n",
        "                      )\n",
        "\n",
        "data = dict(\n",
        "    input_data=A.tolist(),\n",
        ")\n",
        "\n",
        "    # Serialize data into file:\n",
        "json.dump( data, open(data_path, 'w' ))\n"
      ]
    },
    {
      "cell_type": "code",
      "execution_count": 65,
      "id": "HOLcdGx4eQ9n",
      "metadata": {
        "colab": {
          "base_uri": "https://localhost:8080/"
        },
        "id": "HOLcdGx4eQ9n",
        "outputId": "cd0a4f10-251e-492e-9f05-d8af0d79c86a"
      },
      "outputs": [
        {
          "data": {
            "text/plain": [
              "tensor([0])"
            ]
          },
          "execution_count": 65,
          "metadata": {},
          "output_type": "execute_result"
        }
      ],
      "source": [
        "circuit.forward(A)"
      ]
    },
    {
      "cell_type": "code",
      "execution_count": 72,
      "id": "d5e374a2",
      "metadata": {
        "colab": {
          "background_save": true,
          "base_uri": "https://localhost:8080/"
        },
        "id": "d5e374a2",
        "outputId": "11ae5963-02d4-4939-9c98-d126071a9ba0"
      },
      "outputs": [
        {
          "name": "stderr",
          "output_type": "stream",
          "text": [
            "\n",
            "\n",
            " <------------- Numerical Fidelity Report (input_scale: 0, param_scale: 13, scale_input_multiplier: 10) ------------->\n",
            "\n",
            "+------------+--------------+-----------+-----------+----------------+------------------+---------------+---------------+--------------------+--------------------+------------------------+\n",
            "| mean_error | median_error | max_error | min_error | mean_abs_error | median_abs_error | max_abs_error | min_abs_error | mean_squared_error | mean_percent_error | mean_abs_percent_error |\n",
            "+------------+--------------+-----------+-----------+----------------+------------------+---------------+---------------+--------------------+--------------------+------------------------+\n",
            "| 0          | 0            | 0         | 0         | 0              | 0                | 0             | 0             | 0                  | 0                  | 0                      |\n",
            "+------------+--------------+-----------+-----------+----------------+------------------+---------------+---------------+--------------------+--------------------+------------------------+\n",
            "\n",
            "\n"
          ]
        }
      ],
      "source": [
        "\n",
        "\n",
        "res = ezkl.gen_settings(py_run_args=gip_run_args)\n",
        "\n",
        "assert res == True\n",
        "\n",
        "res = await ezkl.calibrate_settings(data=\"input.json\")\n"
      ]
    },
    {
      "cell_type": "code",
      "execution_count": 73,
      "id": "3aa4f090",
      "metadata": {
        "id": "3aa4f090"
      },
      "outputs": [],
      "source": [
        "res = ezkl.compile_circuit()\n",
        "assert res == True"
      ]
    },
    {
      "cell_type": "code",
      "execution_count": 74,
      "id": "8b74dcee",
      "metadata": {
        "id": "8b74dcee"
      },
      "outputs": [],
      "source": [
        "# srs path\n",
        "res = await ezkl.get_srs( settings_path)"
      ]
    },
    {
      "cell_type": "code",
      "execution_count": 75,
      "id": "18c8b7c7",
      "metadata": {
        "id": "18c8b7c7"
      },
      "outputs": [],
      "source": [
        "# now generate the witness file\n",
        "\n",
        "res = await ezkl.gen_witness()\n"
      ]
    },
    {
      "cell_type": "code",
      "execution_count": null,
      "id": "490621ce",
      "metadata": {},
      "outputs": [],
      "source": []
    },
    {
      "cell_type": "code",
      "execution_count": 76,
      "id": "b1c561a8",
      "metadata": {
        "id": "b1c561a8"
      },
      "outputs": [],
      "source": [
        "\n",
        "# we pass the witness file to the setup function so as to prepopulate the \"fixed\" columns of the circuit. \n",
        "# in this case we want to force the output to be 0 meaning that the difference between the two matrices is 0\n",
        "res = ezkl.setup(witness_path = \"witness.json\")\n",
        "\n",
        "assert res == True"
      ]
    },
    {
      "cell_type": "code",
      "execution_count": 77,
      "id": "c384cbc8",
      "metadata": {
        "id": "c384cbc8"
      },
      "outputs": [
        {
          "name": "stdout",
          "output_type": "stream",
          "text": [
            "{'instances': [['0400000000000000000000000000000000000000000000000000000000000000', '0800000000000000000000000000000000000000000000000000000000000000', '0100000000000000000000000000000000000000000000000000000000000000', '0100000000000000000000000000000000000000000000000000000000000000', '0000000000000000000000000000000000000000000000000000000000000000']], 'proof': '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', 'transcript_type': 'EVM'}\n"
          ]
        }
      ],
      "source": [
        "# GENERATE A PROOF\n",
        "\n",
        "\n",
        "\n",
        "res = ezkl.prove(proof_path=\"proof.json\")\n",
        "\n",
        "print(res)\n"
      ]
    },
    {
      "cell_type": "code",
      "execution_count": 78,
      "id": "76f00d41",
      "metadata": {
        "id": "76f00d41"
      },
      "outputs": [
        {
          "name": "stdout",
          "output_type": "stream",
          "text": [
            "verified\n"
          ]
        }
      ],
      "source": [
        "# VERIFY IT\n",
        "\n",
        "res = ezkl.verify()\n",
        "\n",
        "assert res == True\n",
        "print(\"verified\")"
      ]
    },
    {
      "cell_type": "markdown",
      "id": "2b43fce7",
      "metadata": {},
      "source": [
        "We can now create and then deploy a vanilla evm verifier. Which can be used to verify the correctness of the hunter's moves ! "
      ]
    },
    {
      "cell_type": "code",
      "execution_count": 79,
      "id": "a22953f0",
      "metadata": {},
      "outputs": [
        {
          "ename": "SyntaxError",
          "evalue": "invalid syntax. Perhaps you forgot a comma? (2763959909.py, line 5)",
          "output_type": "error",
          "traceback": [
            "\u001b[0;36m  Cell \u001b[0;32mIn[79], line 5\u001b[0;36m\u001b[0m\n\u001b[0;31m    sol_code_path=sol_code_path\u001b[0m\n\u001b[0m                  ^\u001b[0m\n\u001b[0;31mSyntaxError\u001b[0m\u001b[0;31m:\u001b[0m invalid syntax. Perhaps you forgot a comma?\n"
          ]
        }
      ],
      "source": [
        "abi_path = 'test.abi'\n",
        "sol_code_path = 'test.sol'\n",
        "\n",
        "res = await ezkl.create_evm_verifier(\n",
        "        sol_code_path=sol_code_path,\n",
        "        abi_path=abi_path\n",
        "    )\n",
        "assert res == True"
      ]
    }
  ],
  "metadata": {
    "colab": {
      "provenance": []
    },
    "kernelspec": {
      "display_name": "Python 3 (ipykernel)",
      "language": "python",
      "name": "python3"
    },
    "language_info": {
      "codemirror_mode": {
        "name": "ipython",
        "version": 3
      },
      "file_extension": ".py",
      "mimetype": "text/x-python",
      "name": "python",
      "nbconvert_exporter": "python",
      "pygments_lexer": "ipython3",
      "version": "3.12.0"
    }
  },
  "nbformat": 4,
  "nbformat_minor": 5
}
